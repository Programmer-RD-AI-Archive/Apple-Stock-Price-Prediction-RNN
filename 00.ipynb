{
 "cells": [
  {
   "cell_type": "code",
   "execution_count": 1,
   "id": "b7c33a87-a64d-4cd6-ad52-49ecedceb6a2",
   "metadata": {},
   "outputs": [
    {
     "data": {
      "text/plain": [
       "<torch._C.Generator at 0x7f99bac24870>"
      ]
     },
     "execution_count": 1,
     "metadata": {},
     "output_type": "execute_result"
    }
   ],
   "source": [
    "import random\n",
    "import seaborn as sns\n",
    "import pandas as pd\n",
    "import numpy as np\n",
    "import matplotlib.pyplot as plt\n",
    "import sklearn\n",
    "import torch,torchvision\n",
    "from torch.nn import *\n",
    "from tqdm import tqdm\n",
    "import cv2\n",
    "from torch.optim import *\n",
    "# Preproccessing\n",
    "from sklearn.preprocessing import (\n",
    "    StandardScaler,\n",
    "    RobustScaler,\n",
    "    MinMaxScaler,\n",
    "    MaxAbsScaler,\n",
    "    OneHotEncoder,\n",
    "    Normalizer,\n",
    "    Binarizer\n",
    ")\n",
    "# Decomposition\n",
    "from sklearn.decomposition import PCA\n",
    "from sklearn.decomposition import KernelPCA\n",
    "# Feature Selection\n",
    "from sklearn.feature_selection import VarianceThreshold\n",
    "from sklearn.feature_selection import SelectKBest\n",
    "from sklearn.feature_selection import RFECV\n",
    "from sklearn.feature_selection import SelectFromModel\n",
    "# Model Eval\n",
    "from sklearn.compose import make_column_transformer\n",
    "from sklearn.model_selection import GridSearchCV\n",
    "from sklearn.model_selection import cross_val_score,train_test_split\n",
    "from sklearn.metrics import mean_absolute_error,mean_squared_error\n",
    "# Other\n",
    "import pickle\n",
    "import wandb\n",
    "\n",
    "PROJECT_NAME = 'Apple-Stock-Price-Prediction'\n",
    "device = 'cuda:0'\n",
    "np.random.seed(21)\n",
    "random.seed(21)\n",
    "torch.manual_seed(21)"
   ]
  },
  {
   "cell_type": "code",
   "execution_count": 2,
   "id": "848f7ecd-03d8-497f-8461-c993e67d48e0",
   "metadata": {},
   "outputs": [],
   "source": [
    "data = pd.read_csv('./data/data.csv')"
   ]
  },
  {
   "cell_type": "code",
   "execution_count": 3,
   "id": "00895ded-b0d6-4afe-b342-558a76094a4f",
   "metadata": {},
   "outputs": [],
   "source": [
    "data = torch.from_numpy(np.array(data['Open'].tolist()))"
   ]
  },
  {
   "cell_type": "code",
   "execution_count": 4,
   "id": "48b90dcd-c3f4-4d9d-bd48-55ae333f6fc3",
   "metadata": {},
   "outputs": [],
   "source": [
    "data = data.view(1,-1)"
   ]
  },
  {
   "cell_type": "code",
   "execution_count": 5,
   "id": "bba62108-0ee5-4d26-95bc-918a8c35edf2",
   "metadata": {},
   "outputs": [],
   "source": [
    "data_input = data[:1,:-1].float().to(device)\n",
    "data_target = data[:1,1:].float().to(device)"
   ]
  },
  {
   "cell_type": "code",
   "execution_count": 6,
   "id": "d53e8da2-e0ef-49e8-98cf-41390f2bb69a",
   "metadata": {},
   "outputs": [
    {
     "data": {
      "text/plain": [
       "tensor([[ 27.1475,  27.1425,  26.8475,  ..., 150.2300, 149.8000, 145.0300]],\n",
       "       device='cuda:0')"
      ]
     },
     "execution_count": 6,
     "metadata": {},
     "output_type": "execute_result"
    }
   ],
   "source": [
    "data_input"
   ]
  },
  {
   "cell_type": "code",
   "execution_count": 7,
   "id": "9d6ba6fa-af61-4869-93b2-082a202ac7f3",
   "metadata": {},
   "outputs": [
    {
     "data": {
      "text/plain": [
       "tensor([[ 27.1425,  26.8475,  26.8525,  ..., 149.8000, 145.0300, 147.4400]],\n",
       "       device='cuda:0')"
      ]
     },
     "execution_count": 7,
     "metadata": {},
     "output_type": "execute_result"
    }
   ],
   "source": [
    "data_target"
   ]
  },
  {
   "cell_type": "code",
   "execution_count": 8,
   "id": "5799a0b8-16cd-439e-9893-802b5aeef9e0",
   "metadata": {},
   "outputs": [],
   "source": [
    "class Model(Module):\n",
    "    def __init__(self,hidden_lstm=16):\n",
    "        super().__init__()\n",
    "        self.hidden = hidden_lstm\n",
    "        self.lstm1 = LSTMCell(1,hidden_lstm).to(device)\n",
    "        self.lstm2 = LSTMCell(hidden_lstm,hidden_lstm).to(device)\n",
    "        self.lstm3 = LSTMCell(hidden_lstm,hidden_lstm).to(device)\n",
    "        self.linear1 = Linear(hidden_lstm,1).to(device)\n",
    "\n",
    "    \n",
    "    def forward(self,X,future=0):\n",
    "        preds = []\n",
    "        batch_size = X.shape[0]\n",
    "        h_t1 = torch.zeros(batch_size,self.hidden,dtype=torch.float32)\n",
    "        c_t1 = torch.zeros(batch_size,self.hidden,dtype=torch.float32)\n",
    "        h_t2 = torch.zeros(batch_size,self.hidden,dtype=torch.float32)\n",
    "        c_t2 = torch.zeros(batch_size,self.hidden,dtype=torch.float32)\n",
    "        h_t3 = torch.zeros(batch_size,self.hidden,dtype=torch.float32)\n",
    "        c_t3 = torch.zeros(batch_size,self.hidden,dtype=torch.float32)\n",
    "        h_t1,c_t1 = h_t1.to(device),c_t1.to(device)\n",
    "        h_t2,c_t2 = h_t2.to(device),c_t2.to(device)\n",
    "        h_t3,c_t3 = h_t3.to(device),c_t3.to(device)\n",
    "        for X_batch in X.split(1,dim=1):\n",
    "            X_batch = X_batch.to(device)\n",
    "            h_t1,c_t1 = self.lstm1(X_batch,(h_t1,c_t1))\n",
    "            h_t1,c_t1 = h_t1.to(device),c_t1.to(device)\n",
    "            h_t2,c_t2 = self.lstm2(h_t1,(h_t2,c_t2))\n",
    "            h_t2,c_t2 = h_t2.to(device),c_t2.to(device)\n",
    "            h_t3,c_t3 = self.lstm3(h_t2,(h_t3,c_t3))\n",
    "            h_t3,c_t3 = h_t3.to(device),c_t3.to(device)\n",
    "            pred =self.linear1(h_t3)\n",
    "            preds.append(pred)\n",
    "        for i in range(future):\n",
    "            h_t1,c_t1 = self.lstm1(X_batch,(h_t1,c_t1))\n",
    "            h_t1,c_t1 = h_t1.to(device),c_t1.to(device)\n",
    "            h_t2,c_t2 = self.lstm2(h_t1,(h_t2,c_t2))\n",
    "            h_t2,c_t2 = h_t2.to(device),c_t2.to(device)\n",
    "            h_t3,c_t3 = self.lstm3(h_t2,(h_t3,c_t3))\n",
    "            h_t3,c_t3 = h_t3.to(device),c_t3.to(device)\n",
    "            pred =self.linear1(h_t3)\n",
    "            preds.append(pred)\n",
    "        preds = torch.cat(preds,dim=1)\n",
    "        return preds"
   ]
  },
  {
   "cell_type": "code",
   "execution_count": 9,
   "id": "d1e948c2-d2b9-45b2-afc5-cdb26a5d9682",
   "metadata": {},
   "outputs": [],
   "source": [
    "model = Model()"
   ]
  },
  {
   "cell_type": "code",
   "execution_count": 10,
   "id": "dbc3ff22-b07a-4e0a-ba4f-330f8f144cce",
   "metadata": {},
   "outputs": [],
   "source": [
    "optimizer = LBFGS(model.parameters(),lr=0.001)"
   ]
  },
  {
   "cell_type": "code",
   "execution_count": 11,
   "id": "c05e0a1e-a958-4600-a628-acfb1f6b3a4b",
   "metadata": {},
   "outputs": [],
   "source": [
    "criterion = MSELoss()"
   ]
  },
  {
   "cell_type": "code",
   "execution_count": 12,
   "id": "0d3a992e-ed60-45ad-9661-baea1367595a",
   "metadata": {},
   "outputs": [],
   "source": [
    "epochs = 100"
   ]
  },
  {
   "cell_type": "code",
   "execution_count": 13,
   "id": "0de9f0b2-68da-41df-93b7-c2969d2158f1",
   "metadata": {},
   "outputs": [
    {
     "name": "stderr",
     "output_type": "stream",
     "text": [
      "\u001b[34m\u001b[1mwandb\u001b[0m: Currently logged in as: \u001b[33mranuga-d\u001b[0m (use `wandb login --relogin` to force relogin)\n",
      "\u001b[34m\u001b[1mwandb\u001b[0m: wandb version 0.12.1 is available!  To upgrade, please run:\n",
      "\u001b[34m\u001b[1mwandb\u001b[0m:  $ pip install wandb --upgrade\n"
     ]
    },
    {
     "data": {
      "text/html": [
       "\n",
       "                Tracking run with wandb version 0.12.0<br/>\n",
       "                Syncing run <strong style=\"color:#cdcd00\">baseline</strong> to <a href=\"https://wandb.ai\" target=\"_blank\">Weights & Biases</a> <a href=\"https://docs.wandb.com/integrations/jupyter.html\" target=\"_blank\">(Documentation)</a>.<br/>\n",
       "                Project page: <a href=\"https://wandb.ai/ranuga-d/Apple-Stock-Price-Prediction\" target=\"_blank\">https://wandb.ai/ranuga-d/Apple-Stock-Price-Prediction</a><br/>\n",
       "                Run page: <a href=\"https://wandb.ai/ranuga-d/Apple-Stock-Price-Prediction/runs/wp5sbwb7\" target=\"_blank\">https://wandb.ai/ranuga-d/Apple-Stock-Price-Prediction/runs/wp5sbwb7</a><br/>\n",
       "                Run data is saved locally in <code>/home/indika/Programming/Projects/Python/Artifical-Intelligence/PyTorch/RNN/Apple-Stock-Price-Prediction/wandb/run-20210827_075008-wp5sbwb7</code><br/><br/>\n",
       "            "
      ],
      "text/plain": [
       "<IPython.core.display.HTML object>"
      ]
     },
     "metadata": {},
     "output_type": "display_data"
    },
    {
     "name": "stderr",
     "output_type": "stream",
     "text": [
      "  0%|          | 0/100 [00:00<?, ?it/s]\n"
     ]
    },
    {
     "ename": "RuntimeError",
     "evalue": "CUDA error: CUBLAS_STATUS_ALLOC_FAILED when calling `cublasCreate(handle)`",
     "output_type": "error",
     "traceback": [
      "\u001b[0;31m---------------------------------------------------------------------------\u001b[0m",
      "\u001b[0;31mRuntimeError\u001b[0m                              Traceback (most recent call last)",
      "\u001b[0;32m<ipython-input-13-2af4dcb0f7dc>\u001b[0m in \u001b[0;36m<module>\u001b[0;34m\u001b[0m\n\u001b[1;32m      8\u001b[0m         \u001b[0mloss\u001b[0m\u001b[0;34m.\u001b[0m\u001b[0mbackward\u001b[0m\u001b[0;34m(\u001b[0m\u001b[0;34m)\u001b[0m\u001b[0;34m\u001b[0m\u001b[0;34m\u001b[0m\u001b[0m\n\u001b[1;32m      9\u001b[0m         \u001b[0;32mreturn\u001b[0m \u001b[0mloss\u001b[0m\u001b[0;34m\u001b[0m\u001b[0;34m\u001b[0m\u001b[0m\n\u001b[0;32m---> 10\u001b[0;31m     \u001b[0moptimizer\u001b[0m\u001b[0;34m.\u001b[0m\u001b[0mstep\u001b[0m\u001b[0;34m(\u001b[0m\u001b[0mclosure\u001b[0m\u001b[0;34m)\u001b[0m\u001b[0;34m\u001b[0m\u001b[0;34m\u001b[0m\u001b[0m\n\u001b[0m\u001b[1;32m     11\u001b[0m     \u001b[0;32mwith\u001b[0m \u001b[0mtorch\u001b[0m\u001b[0;34m.\u001b[0m\u001b[0mno_grad\u001b[0m\u001b[0;34m(\u001b[0m\u001b[0;34m)\u001b[0m\u001b[0;34m:\u001b[0m\u001b[0;34m\u001b[0m\u001b[0;34m\u001b[0m\u001b[0m\n\u001b[1;32m     12\u001b[0m         \u001b[0mfuture\u001b[0m \u001b[0;34m=\u001b[0m \u001b[0;36m100\u001b[0m\u001b[0;34m\u001b[0m\u001b[0;34m\u001b[0m\u001b[0m\n",
      "\u001b[0;32m~/anaconda3/lib/python3.7/site-packages/torch/autograd/grad_mode.py\u001b[0m in \u001b[0;36mdecorate_context\u001b[0;34m(*args, **kwargs)\u001b[0m\n\u001b[1;32m     24\u001b[0m         \u001b[0;32mdef\u001b[0m \u001b[0mdecorate_context\u001b[0m\u001b[0;34m(\u001b[0m\u001b[0;34m*\u001b[0m\u001b[0margs\u001b[0m\u001b[0;34m,\u001b[0m \u001b[0;34m**\u001b[0m\u001b[0mkwargs\u001b[0m\u001b[0;34m)\u001b[0m\u001b[0;34m:\u001b[0m\u001b[0;34m\u001b[0m\u001b[0;34m\u001b[0m\u001b[0m\n\u001b[1;32m     25\u001b[0m             \u001b[0;32mwith\u001b[0m \u001b[0mself\u001b[0m\u001b[0;34m.\u001b[0m\u001b[0m__class__\u001b[0m\u001b[0;34m(\u001b[0m\u001b[0;34m)\u001b[0m\u001b[0;34m:\u001b[0m\u001b[0;34m\u001b[0m\u001b[0;34m\u001b[0m\u001b[0m\n\u001b[0;32m---> 26\u001b[0;31m                 \u001b[0;32mreturn\u001b[0m \u001b[0mfunc\u001b[0m\u001b[0;34m(\u001b[0m\u001b[0;34m*\u001b[0m\u001b[0margs\u001b[0m\u001b[0;34m,\u001b[0m \u001b[0;34m**\u001b[0m\u001b[0mkwargs\u001b[0m\u001b[0;34m)\u001b[0m\u001b[0;34m\u001b[0m\u001b[0;34m\u001b[0m\u001b[0m\n\u001b[0m\u001b[1;32m     27\u001b[0m         \u001b[0;32mreturn\u001b[0m \u001b[0mcast\u001b[0m\u001b[0;34m(\u001b[0m\u001b[0mF\u001b[0m\u001b[0;34m,\u001b[0m \u001b[0mdecorate_context\u001b[0m\u001b[0;34m)\u001b[0m\u001b[0;34m\u001b[0m\u001b[0;34m\u001b[0m\u001b[0m\n\u001b[1;32m     28\u001b[0m \u001b[0;34m\u001b[0m\u001b[0m\n",
      "\u001b[0;32m~/anaconda3/lib/python3.7/site-packages/torch/optim/lbfgs.py\u001b[0m in \u001b[0;36mstep\u001b[0;34m(self, closure)\u001b[0m\n\u001b[1;32m    309\u001b[0m \u001b[0;34m\u001b[0m\u001b[0m\n\u001b[1;32m    310\u001b[0m         \u001b[0;31m# evaluate initial f(x) and df/dx\u001b[0m\u001b[0;34m\u001b[0m\u001b[0;34m\u001b[0m\u001b[0;34m\u001b[0m\u001b[0m\n\u001b[0;32m--> 311\u001b[0;31m         \u001b[0morig_loss\u001b[0m \u001b[0;34m=\u001b[0m \u001b[0mclosure\u001b[0m\u001b[0;34m(\u001b[0m\u001b[0;34m)\u001b[0m\u001b[0;34m\u001b[0m\u001b[0;34m\u001b[0m\u001b[0m\n\u001b[0m\u001b[1;32m    312\u001b[0m         \u001b[0mloss\u001b[0m \u001b[0;34m=\u001b[0m \u001b[0mfloat\u001b[0m\u001b[0;34m(\u001b[0m\u001b[0morig_loss\u001b[0m\u001b[0;34m)\u001b[0m\u001b[0;34m\u001b[0m\u001b[0;34m\u001b[0m\u001b[0m\n\u001b[1;32m    313\u001b[0m         \u001b[0mcurrent_evals\u001b[0m \u001b[0;34m=\u001b[0m \u001b[0;36m1\u001b[0m\u001b[0;34m\u001b[0m\u001b[0;34m\u001b[0m\u001b[0m\n",
      "\u001b[0;32m~/anaconda3/lib/python3.7/site-packages/torch/autograd/grad_mode.py\u001b[0m in \u001b[0;36mdecorate_context\u001b[0;34m(*args, **kwargs)\u001b[0m\n\u001b[1;32m     24\u001b[0m         \u001b[0;32mdef\u001b[0m \u001b[0mdecorate_context\u001b[0m\u001b[0;34m(\u001b[0m\u001b[0;34m*\u001b[0m\u001b[0margs\u001b[0m\u001b[0;34m,\u001b[0m \u001b[0;34m**\u001b[0m\u001b[0mkwargs\u001b[0m\u001b[0;34m)\u001b[0m\u001b[0;34m:\u001b[0m\u001b[0;34m\u001b[0m\u001b[0;34m\u001b[0m\u001b[0m\n\u001b[1;32m     25\u001b[0m             \u001b[0;32mwith\u001b[0m \u001b[0mself\u001b[0m\u001b[0;34m.\u001b[0m\u001b[0m__class__\u001b[0m\u001b[0;34m(\u001b[0m\u001b[0;34m)\u001b[0m\u001b[0;34m:\u001b[0m\u001b[0;34m\u001b[0m\u001b[0;34m\u001b[0m\u001b[0m\n\u001b[0;32m---> 26\u001b[0;31m                 \u001b[0;32mreturn\u001b[0m \u001b[0mfunc\u001b[0m\u001b[0;34m(\u001b[0m\u001b[0;34m*\u001b[0m\u001b[0margs\u001b[0m\u001b[0;34m,\u001b[0m \u001b[0;34m**\u001b[0m\u001b[0mkwargs\u001b[0m\u001b[0;34m)\u001b[0m\u001b[0;34m\u001b[0m\u001b[0;34m\u001b[0m\u001b[0m\n\u001b[0m\u001b[1;32m     27\u001b[0m         \u001b[0;32mreturn\u001b[0m \u001b[0mcast\u001b[0m\u001b[0;34m(\u001b[0m\u001b[0mF\u001b[0m\u001b[0;34m,\u001b[0m \u001b[0mdecorate_context\u001b[0m\u001b[0;34m)\u001b[0m\u001b[0;34m\u001b[0m\u001b[0;34m\u001b[0m\u001b[0m\n\u001b[1;32m     28\u001b[0m \u001b[0;34m\u001b[0m\u001b[0m\n",
      "\u001b[0;32m<ipython-input-13-2af4dcb0f7dc>\u001b[0m in \u001b[0;36mclosure\u001b[0;34m()\u001b[0m\n\u001b[1;32m      6\u001b[0m         \u001b[0mloss\u001b[0m \u001b[0;34m=\u001b[0m \u001b[0mcriterion\u001b[0m\u001b[0;34m(\u001b[0m\u001b[0mpreds\u001b[0m\u001b[0;34m,\u001b[0m\u001b[0mdata_target\u001b[0m\u001b[0;34m)\u001b[0m\u001b[0;34m\u001b[0m\u001b[0;34m\u001b[0m\u001b[0m\n\u001b[1;32m      7\u001b[0m         \u001b[0mwandb\u001b[0m\u001b[0;34m.\u001b[0m\u001b[0mlog\u001b[0m\u001b[0;34m(\u001b[0m\u001b[0;34m{\u001b[0m\u001b[0;34m'Loss'\u001b[0m\u001b[0;34m:\u001b[0m\u001b[0mloss\u001b[0m\u001b[0;34m.\u001b[0m\u001b[0mitem\u001b[0m\u001b[0;34m(\u001b[0m\u001b[0;34m)\u001b[0m\u001b[0;34m}\u001b[0m\u001b[0;34m)\u001b[0m\u001b[0;34m\u001b[0m\u001b[0;34m\u001b[0m\u001b[0m\n\u001b[0;32m----> 8\u001b[0;31m         \u001b[0mloss\u001b[0m\u001b[0;34m.\u001b[0m\u001b[0mbackward\u001b[0m\u001b[0;34m(\u001b[0m\u001b[0;34m)\u001b[0m\u001b[0;34m\u001b[0m\u001b[0;34m\u001b[0m\u001b[0m\n\u001b[0m\u001b[1;32m      9\u001b[0m         \u001b[0;32mreturn\u001b[0m \u001b[0mloss\u001b[0m\u001b[0;34m\u001b[0m\u001b[0;34m\u001b[0m\u001b[0m\n\u001b[1;32m     10\u001b[0m     \u001b[0moptimizer\u001b[0m\u001b[0;34m.\u001b[0m\u001b[0mstep\u001b[0m\u001b[0;34m(\u001b[0m\u001b[0mclosure\u001b[0m\u001b[0;34m)\u001b[0m\u001b[0;34m\u001b[0m\u001b[0;34m\u001b[0m\u001b[0m\n",
      "\u001b[0;32m~/anaconda3/lib/python3.7/site-packages/torch/tensor.py\u001b[0m in \u001b[0;36mbackward\u001b[0;34m(self, gradient, retain_graph, create_graph)\u001b[0m\n\u001b[1;32m    219\u001b[0m                 \u001b[0mretain_graph\u001b[0m\u001b[0;34m=\u001b[0m\u001b[0mretain_graph\u001b[0m\u001b[0;34m,\u001b[0m\u001b[0;34m\u001b[0m\u001b[0;34m\u001b[0m\u001b[0m\n\u001b[1;32m    220\u001b[0m                 create_graph=create_graph)\n\u001b[0;32m--> 221\u001b[0;31m         \u001b[0mtorch\u001b[0m\u001b[0;34m.\u001b[0m\u001b[0mautograd\u001b[0m\u001b[0;34m.\u001b[0m\u001b[0mbackward\u001b[0m\u001b[0;34m(\u001b[0m\u001b[0mself\u001b[0m\u001b[0;34m,\u001b[0m \u001b[0mgradient\u001b[0m\u001b[0;34m,\u001b[0m \u001b[0mretain_graph\u001b[0m\u001b[0;34m,\u001b[0m \u001b[0mcreate_graph\u001b[0m\u001b[0;34m)\u001b[0m\u001b[0;34m\u001b[0m\u001b[0;34m\u001b[0m\u001b[0m\n\u001b[0m\u001b[1;32m    222\u001b[0m \u001b[0;34m\u001b[0m\u001b[0m\n\u001b[1;32m    223\u001b[0m     \u001b[0;32mdef\u001b[0m \u001b[0mregister_hook\u001b[0m\u001b[0;34m(\u001b[0m\u001b[0mself\u001b[0m\u001b[0;34m,\u001b[0m \u001b[0mhook\u001b[0m\u001b[0;34m)\u001b[0m\u001b[0;34m:\u001b[0m\u001b[0;34m\u001b[0m\u001b[0;34m\u001b[0m\u001b[0m\n",
      "\u001b[0;32m~/anaconda3/lib/python3.7/site-packages/torch/autograd/__init__.py\u001b[0m in \u001b[0;36mbackward\u001b[0;34m(tensors, grad_tensors, retain_graph, create_graph, grad_variables)\u001b[0m\n\u001b[1;32m    130\u001b[0m     Variable._execution_engine.run_backward(\n\u001b[1;32m    131\u001b[0m         \u001b[0mtensors\u001b[0m\u001b[0;34m,\u001b[0m \u001b[0mgrad_tensors_\u001b[0m\u001b[0;34m,\u001b[0m \u001b[0mretain_graph\u001b[0m\u001b[0;34m,\u001b[0m \u001b[0mcreate_graph\u001b[0m\u001b[0;34m,\u001b[0m\u001b[0;34m\u001b[0m\u001b[0;34m\u001b[0m\u001b[0m\n\u001b[0;32m--> 132\u001b[0;31m         allow_unreachable=True)  # allow_unreachable flag\n\u001b[0m\u001b[1;32m    133\u001b[0m \u001b[0;34m\u001b[0m\u001b[0m\n\u001b[1;32m    134\u001b[0m \u001b[0;34m\u001b[0m\u001b[0m\n",
      "\u001b[0;31mRuntimeError\u001b[0m: CUDA error: CUBLAS_STATUS_ALLOC_FAILED when calling `cublasCreate(handle)`"
     ]
    }
   ],
   "source": [
    "wandb.init(project=PROJECT_NAME,name='baseline')\n",
    "for _ in tqdm(range(epochs)):\n",
    "    def closure():\n",
    "        optimizer.zero_grad()\n",
    "        preds = model(data_input)\n",
    "        loss = criterion(preds,data_target)\n",
    "        wandb.log({'Loss':loss.item()})\n",
    "        loss.backward()\n",
    "        return loss\n",
    "    optimizer.step(closure)\n",
    "    with torch.no_grad():\n",
    "        future = 100\n",
    "        preds = model(data_input,future)\n",
    "        loss = criterion(preds[:,:-future],data_target)\n",
    "        wandb.log({'Val Loss':loss.item()})\n",
    "        preds = preds.cpu().detach().numpy()\n",
    "        plt.figure(figsize=(12,7))\n",
    "        n = data_input.shape[1]\n",
    "        def draw(y):\n",
    "            plt.plot(np.arange(n),data_target.cpu().view(-1),'r')\n",
    "            plt.plot(np.arange(n,n+future),y[n:],'b')\n",
    "        draw(preds[0])\n",
    "        plt.savefig('./img.png')\n",
    "        plt.close()\n",
    "        wandb.log({'Preds':wandb.Image(cv2.imread('./img.png'))})\n",
    "    wandb.watch(model)\n",
    "wandb.finish()"
   ]
  },
  {
   "cell_type": "code",
   "execution_count": null,
   "id": "297ddb7c-be6d-4d9b-aa7d-672bacfbaa6d",
   "metadata": {},
   "outputs": [],
   "source": [
    "data_input.shape"
   ]
  },
  {
   "cell_type": "code",
   "execution_count": null,
   "id": "9740589f-89ac-4b6e-8354-88d93b71174b",
   "metadata": {},
   "outputs": [],
   "source": [
    "preprocessings = (\n",
    "    StandardScaler,\n",
    "    RobustScaler,\n",
    "    MinMaxScaler,\n",
    "    MaxAbsScaler,\n",
    "    OneHotEncoder,\n",
    "    Normalizer,\n",
    "    Binarizer\n",
    ")"
   ]
  },
  {
   "cell_type": "code",
   "execution_count": null,
   "id": "535f855e-9941-4828-8d97-855632aa0535",
   "metadata": {},
   "outputs": [],
   "source": [
    "decompositions = (\n",
    "    PCA,\n",
    "    KernelPCA\n",
    ")"
   ]
  },
  {
   "cell_type": "code",
   "execution_count": null,
   "id": "a8912c8c-afda-439f-821f-acb9c421d9bb",
   "metadata": {},
   "outputs": [],
   "source": [
    "feature_selections = (\n",
    "    VarianceThreshold,\n",
    "    SelectKBest,\n",
    ")"
   ]
  },
  {
   "cell_type": "code",
   "execution_count": null,
   "id": "dbe7996b-9e1d-4786-85da-3ea3eabfce72",
   "metadata": {},
   "outputs": [],
   "source": [
    "data_input_old = data_input.copy()\n",
    "data_target_old = data_target.copy()"
   ]
  },
  {
   "cell_type": "code",
   "execution_count": null,
   "id": "38c10248-48fa-440e-a214-bc477649d9d9",
   "metadata": {},
   "outputs": [],
   "source": [
    "for preprocessing in preprocessings:\n",
    "    data_input = data_input_old.copy()\n",
    "    data_target = data_target_old.copy()\n",
    "    preprocessing = preprocessing()\n",
    "    data_input = preprocessing.fit_transform(data_input)\n",
    "    data_target = preprocessing.transfrom(data_target)\n",
    "    wandb.init(project=PROJECT_NAME,name=f'{preprocessing}-preprocessing')\n",
    "    for _ in tqdm(range(epochs)):\n",
    "        def closure():\n",
    "            optimizer.zero_grad()\n",
    "            preds = model(data_input)\n",
    "            loss = criterion(preds,data_target)\n",
    "            wandb.log({'Loss':loss.item()})\n",
    "            loss.backward()\n",
    "            return loss\n",
    "        optimizer.step(closure)\n",
    "        with torch.no_grad():\n",
    "            future = 100\n",
    "            preds = model(data_input,future)\n",
    "            loss = criterion(preds[:,:-future],data_target)\n",
    "            wandb.log({'Val Loss':loss.item()})\n",
    "            preds = preds.cpu().detach().numpy()\n",
    "            plt.figure(figsize=(12,7))\n",
    "            n = data_input.shape[1]\n",
    "            def draw(y):\n",
    "                plt.plot(np.arange(n),data_target.cpu().view(-1),'r')\n",
    "                plt.plot(np.arange(n,n+future),y[n:],'b')\n",
    "            draw(preds[0])\n",
    "            plt.savefig('./img.png')\n",
    "            plt.close()\n",
    "            wandb.log({'Preds':wandb.Image(cv2.imread('./img.png'))})\n",
    "        wandb.watch(model)\n",
    "    wandb.finish()"
   ]
  },
  {
   "cell_type": "code",
   "execution_count": null,
   "id": "2468aa4f-0e5e-4e43-b517-c6aca579d814",
   "metadata": {},
   "outputs": [],
   "source": [
    "for decomposition in decompositions:\n",
    "    data_input = data_input_old.copy()\n",
    "    data_target = data_target_old.copy()\n",
    "    preprocessing = decomposition()\n",
    "    data_input = preprocessing.fit_transform(data_input)\n",
    "    data_target = preprocessing.transfrom(data_target)\n",
    "    wandb.init(project=PROJECT_NAME,name=f'{decomposition}-decomposition')\n",
    "    for _ in tqdm(range(epochs)):\n",
    "        def closure():\n",
    "            optimizer.zero_grad()\n",
    "            preds = model(data_input)\n",
    "            loss = criterion(preds,data_target)\n",
    "            wandb.log({'Loss':loss.item()})\n",
    "            loss.backward()\n",
    "            return loss\n",
    "        optimizer.step(closure)\n",
    "        with torch.no_grad():\n",
    "            future = 100\n",
    "            preds = model(data_input,future)\n",
    "            loss = criterion(preds[:,:-future],data_target)\n",
    "            wandb.log({'Val Loss':loss.item()})\n",
    "            preds = preds.cpu().detach().numpy()\n",
    "            plt.figure(figsize=(12,7))\n",
    "            n = data_input.shape[1]\n",
    "            def draw(y):\n",
    "                plt.plot(np.arange(n),data_target.cpu().view(-1),'r')\n",
    "                plt.plot(np.arange(n,n+future),y[n:],'b')\n",
    "            draw(preds[0])\n",
    "            plt.savefig('./img.png')\n",
    "            plt.close()\n",
    "            wandb.log({'Preds':wandb.Image(cv2.imread('./img.png'))})\n",
    "        wandb.watch(model)\n",
    "    wandb.finish()"
   ]
  },
  {
   "cell_type": "code",
   "execution_count": null,
   "id": "8541805c-ed37-4693-be75-1401e934b93d",
   "metadata": {},
   "outputs": [],
   "source": [
    "for feature_selection in feature_selections:\n",
    "    data_input = data_input_old.copy()\n",
    "    data_target = data_target_old.copy()\n",
    "    preprocessing = feature_selection()\n",
    "    data_input = preprocessing.fit_transform(data_input)\n",
    "    data_target = preprocessing.transfrom(data_target)\n",
    "    wandb.init(project=PROJECT_NAME,name=f'{feature_selection}-feature_selection')\n",
    "    for _ in tqdm(range(epochs)):\n",
    "        def closure():\n",
    "            optimizer.zero_grad()\n",
    "            preds = model(data_input)\n",
    "            loss = criterion(preds,data_target)\n",
    "            wandb.log({'Loss':loss.item()})\n",
    "            loss.backward()\n",
    "            return loss\n",
    "        optimizer.step(closure)\n",
    "        with torch.no_grad():\n",
    "            future = 100\n",
    "            preds = model(data_input,future)\n",
    "            loss = criterion(preds[:,:-future],data_target)\n",
    "            wandb.log({'Val Loss':loss.item()})\n",
    "            preds = preds.cpu().detach().numpy()\n",
    "            plt.figure(figsize=(12,7))\n",
    "            n = data_input.shape[1]\n",
    "            def draw(y):\n",
    "                plt.plot(np.arange(n),data_target.cpu().view(-1),'r')\n",
    "                plt.plot(np.arange(n,n+future),y[n:],'b')\n",
    "            draw(preds[0])\n",
    "            plt.savefig('./img.png')\n",
    "            plt.close()\n",
    "            wandb.log({'Preds':wandb.Image(cv2.imread('./img.png'))})\n",
    "        wandb.watch(model)\n",
    "    wandb.finish()"
   ]
  },
  {
   "cell_type": "code",
   "execution_count": null,
   "id": "746113e3-19bb-4195-bceb-0844ae1dbd7e",
   "metadata": {},
   "outputs": [],
   "source": []
  }
 ],
 "metadata": {
  "kernelspec": {
   "display_name": "Python 3.7.3 64-bit ('base': conda)",
   "language": "python",
   "name": "python373jvsc74a57bd0210f9608a45c0278a93c9e0b10db32a427986ab48cfc0d20c139811eb78c4bbc"
  },
  "language_info": {
   "codemirror_mode": {
    "name": "ipython",
    "version": 3
   },
   "file_extension": ".py",
   "mimetype": "text/x-python",
   "name": "python",
   "nbconvert_exporter": "python",
   "pygments_lexer": "ipython3",
   "version": "3.7.7"
  }
 },
 "nbformat": 4,
 "nbformat_minor": 5
}
